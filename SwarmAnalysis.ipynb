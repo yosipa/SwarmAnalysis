{
  "nbformat": 4,
  "nbformat_minor": 0,
  "metadata": {
    "colab": {
      "name": "SwarmAnalysis.ipynb",
      "provenance": [],
      "authorship_tag": "ABX9TyNfQPDMFmyblnDadEFjs+3Z",
      "include_colab_link": true
    },
    "kernelspec": {
      "name": "python3",
      "display_name": "Python 3"
    }
  },
  "cells": [
    {
      "cell_type": "markdown",
      "metadata": {
        "id": "view-in-github",
        "colab_type": "text"
      },
      "source": [
        "<a href=\"https://colab.research.google.com/github/yosipa/SwarmAnalysis/blob/master/SwarmAnalysis.ipynb\" target=\"_parent\"><img src=\"https://colab.research.google.com/assets/colab-badge.svg\" alt=\"Open In Colab\"/></a>"
      ]
    },
    {
      "cell_type": "code",
      "metadata": {
        "id": "XUdfayyUSw7Z"
      },
      "source": [
        "import pandas as pd\n",
        "import numpy as np\n",
        "%matplotlib inline"
      ],
      "execution_count": 30,
      "outputs": []
    },
    {
      "cell_type": "code",
      "metadata": {
        "colab": {
          "resources": {
            "http://localhost:8080/nbextensions/google.colab/files.js": {
              "data": "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",
              "ok": true,
              "headers": [
                [
                  "content-type",
                  "application/javascript"
                ]
              ],
              "status": 200,
              "status_text": ""
            }
          },
          "base_uri": "https://localhost:8080/",
          "height": 72
        },
        "id": "76VDLPyhPLL5",
        "outputId": "ccc0f113-dabd-4699-97a8-ab2a741bff3e"
      },
      "source": [
        "from google.colab import files\n",
        "uploaded = files.upload()"
      ],
      "execution_count": 31,
      "outputs": [
        {
          "output_type": "display_data",
          "data": {
            "text/html": [
              "\n",
              "     <input type=\"file\" id=\"files-e88d0995-dd5e-4758-8155-4afc3139ecbf\" name=\"files[]\" multiple disabled\n",
              "        style=\"border:none\" />\n",
              "     <output id=\"result-e88d0995-dd5e-4758-8155-4afc3139ecbf\">\n",
              "      Upload widget is only available when the cell has been executed in the\n",
              "      current browser session. Please rerun this cell to enable.\n",
              "      </output>\n",
              "      <script src=\"/nbextensions/google.colab/files.js\"></script> "
            ],
            "text/plain": [
              "<IPython.core.display.HTML object>"
            ]
          },
          "metadata": {
            "tags": []
          }
        },
        {
          "output_type": "stream",
          "text": [
            "Saving swarm_simulation_data.csv to swarm_simulation_data (2).csv\n"
          ],
          "name": "stdout"
        }
      ]
    },
    {
      "cell_type": "code",
      "metadata": {
        "colab": {
          "base_uri": "https://localhost:8080/"
        },
        "id": "pqH5r8x-S-pi",
        "outputId": "609a28d1-b8ab-46f1-b762-9f5904770c5e"
      },
      "source": [
        "df = pd.read_csv(\"swarm_simulation_data.csv\")\n",
        "df.shape"
      ],
      "execution_count": null,
      "outputs": [
        {
          "output_type": "execute_result",
          "data": {
            "text/plain": [
              "(70, 42)"
            ]
          },
          "metadata": {
            "tags": []
          },
          "execution_count": 12
        }
      ]
    },
    {
      "cell_type": "code",
      "metadata": {
        "colab": {
          "base_uri": "https://localhost:8080/",
          "height": 224
        },
        "id": "QftZjScIT3At",
        "outputId": "ef0571e8-ad26-476b-8bde-b09c69a45aca"
      },
      "source": [
        "# keep just the table\n",
        "df = df.iloc[:,1:36]\n",
        "df.head()"
      ],
      "execution_count": null,
      "outputs": [
        {
          "output_type": "execute_result",
          "data": {
            "text/html": [
              "<div>\n",
              "<style scoped>\n",
              "    .dataframe tbody tr th:only-of-type {\n",
              "        vertical-align: middle;\n",
              "    }\n",
              "\n",
              "    .dataframe tbody tr th {\n",
              "        vertical-align: top;\n",
              "    }\n",
              "\n",
              "    .dataframe thead th {\n",
              "        text-align: right;\n",
              "    }\n",
              "</style>\n",
              "<table border=\"1\" class=\"dataframe\">\n",
              "  <thead>\n",
              "    <tr style=\"text-align: right;\">\n",
              "      <th></th>\n",
              "      <th>Robot_count</th>\n",
              "      <th>Picker_count</th>\n",
              "      <th>Robot/Picker_ratio</th>\n",
              "      <th>Total_assist_time_(sec)</th>\n",
              "      <th>Picker_assist_time(%)</th>\n",
              "      <th>Picker_move_time_(sec)</th>\n",
              "      <th>Picker_move_time_(%)</th>\n",
              "      <th>Picker_distance_traveled_(m)</th>\n",
              "      <th>Picker_wait_time_(sec)</th>\n",
              "      <th>Picker_wait_time_(%)</th>\n",
              "      <th>Robot_total_operation__time_(sec)</th>\n",
              "      <th>Robot_assist_time_(%)</th>\n",
              "      <th>Robot_move_time_(sec)</th>\n",
              "      <th>Robot_move_time_(%)</th>\n",
              "      <th>Robot_distance_traveled_(m)</th>\n",
              "      <th>Robot_wait_time_(sec)</th>\n",
              "      <th>Robot_wait_time_(%)</th>\n",
              "      <th>Robot_total_time_queuing_(sec)</th>\n",
              "      <th>Robot_time_queuing_percentage</th>\n",
              "      <th>Robot_total_time_waiting_in_traffic_(sec)</th>\n",
              "      <th>Robot_total_time_waiting_in_traffic_(perc)</th>\n",
              "      <th>Robot_get_pallet_time_(sec)</th>\n",
              "      <th>Robot_drop_pallet_time_(sec)</th>\n",
              "      <th>Robot_get/drop_pallet_time_percentage</th>\n",
              "      <th>Robot_Time_spent_waiting_for_locations_to_open_(sec)</th>\n",
              "      <th>Robot_Time_spent_waiting_for_locations_to_open_(perc)</th>\n",
              "      <th>Orders_handled</th>\n",
              "      <th>Simulation_duration</th>\n",
              "      <th>Realtime_duration</th>\n",
              "      <th>Robot_price</th>\n",
              "      <th>Robot_price_(full_day)</th>\n",
              "      <th>Picker_price</th>\n",
              "      <th>Total_Price</th>\n",
              "      <th>Savings_percentage</th>\n",
              "      <th>Throughput_factor</th>\n",
              "    </tr>\n",
              "  </thead>\n",
              "  <tbody>\n",
              "    <tr>\n",
              "      <th>0</th>\n",
              "      <td>5</td>\n",
              "      <td>5</td>\n",
              "      <td>1.000000</td>\n",
              "      <td>122630</td>\n",
              "      <td>14.41%</td>\n",
              "      <td>398816.1065</td>\n",
              "      <td>46.87%</td>\n",
              "      <td>5.489326e+05</td>\n",
              "      <td>3.295117e+05</td>\n",
              "      <td>38.72%</td>\n",
              "      <td>844959.9781</td>\n",
              "      <td>14.51%</td>\n",
              "      <td>529005.5101</td>\n",
              "      <td>62.64%</td>\n",
              "      <td>386226.6424</td>\n",
              "      <td>100870.9928</td>\n",
              "      <td>11.94%</td>\n",
              "      <td>3520.233659</td>\n",
              "      <td>0.67%</td>\n",
              "      <td>3801.028905</td>\n",
              "      <td>0.72%</td>\n",
              "      <td>46178.06830</td>\n",
              "      <td>46010.34932</td>\n",
              "      <td>10.91%</td>\n",
              "      <td>265.057646</td>\n",
              "      <td>0.05%</td>\n",
              "      <td>840</td>\n",
              "      <td>48:00:00</td>\n",
              "      <td>00:17:42</td>\n",
              "      <td>5000.0</td>\n",
              "      <td>5000.0</td>\n",
              "      <td>10500.0</td>\n",
              "      <td>15500.0</td>\n",
              "      <td>26.19</td>\n",
              "      <td>0.5</td>\n",
              "    </tr>\n",
              "    <tr>\n",
              "      <th>1</th>\n",
              "      <td>5</td>\n",
              "      <td>10</td>\n",
              "      <td>0.500000</td>\n",
              "      <td>122570</td>\n",
              "      <td>7.16%</td>\n",
              "      <td>643287.3397</td>\n",
              "      <td>37.58%</td>\n",
              "      <td>9.350058e+05</td>\n",
              "      <td>9.459108e+05</td>\n",
              "      <td>55.26%</td>\n",
              "      <td>845648.8796</td>\n",
              "      <td>14.49%</td>\n",
              "      <td>529079.0607</td>\n",
              "      <td>62.60%</td>\n",
              "      <td>388606.3357</td>\n",
              "      <td>101487.2578</td>\n",
              "      <td>12.00%</td>\n",
              "      <td>3185.343130</td>\n",
              "      <td>0.60%</td>\n",
              "      <td>3851.046373</td>\n",
              "      <td>0.73%</td>\n",
              "      <td>46201.58315</td>\n",
              "      <td>46014.75065</td>\n",
              "      <td>10.90%</td>\n",
              "      <td>296.227290</td>\n",
              "      <td>0.06%</td>\n",
              "      <td>841</td>\n",
              "      <td>48:00:00</td>\n",
              "      <td>00:15:06</td>\n",
              "      <td>5000.0</td>\n",
              "      <td>5000.0</td>\n",
              "      <td>21000.0</td>\n",
              "      <td>26000.0</td>\n",
              "      <td>-23.81</td>\n",
              "      <td>0.5</td>\n",
              "    </tr>\n",
              "    <tr>\n",
              "      <th>2</th>\n",
              "      <td>5</td>\n",
              "      <td>15</td>\n",
              "      <td>0.333333</td>\n",
              "      <td>121580</td>\n",
              "      <td>4.72%</td>\n",
              "      <td>680362.2792</td>\n",
              "      <td>26.41%</td>\n",
              "      <td>9.919867e+05</td>\n",
              "      <td>1.773791e+06</td>\n",
              "      <td>68.87%</td>\n",
              "      <td>846061.0573</td>\n",
              "      <td>14.37%</td>\n",
              "      <td>526795.6927</td>\n",
              "      <td>62.30%</td>\n",
              "      <td>387133.8772</td>\n",
              "      <td>105676.2928</td>\n",
              "      <td>12.49%</td>\n",
              "      <td>3828.163397</td>\n",
              "      <td>0.73%</td>\n",
              "      <td>3677.353760</td>\n",
              "      <td>0.70%</td>\n",
              "      <td>45966.33001</td>\n",
              "      <td>45743.70459</td>\n",
              "      <td>10.84%</td>\n",
              "      <td>299.037246</td>\n",
              "      <td>0.06%</td>\n",
              "      <td>836</td>\n",
              "      <td>48:00:00</td>\n",
              "      <td>00:12:17</td>\n",
              "      <td>5000.0</td>\n",
              "      <td>5000.0</td>\n",
              "      <td>31500.0</td>\n",
              "      <td>36500.0</td>\n",
              "      <td>-73.81</td>\n",
              "      <td>0.5</td>\n",
              "    </tr>\n",
              "    <tr>\n",
              "      <th>3</th>\n",
              "      <td>5</td>\n",
              "      <td>17</td>\n",
              "      <td>0.294118</td>\n",
              "      <td>121470</td>\n",
              "      <td>4.16%</td>\n",
              "      <td>690439.5681</td>\n",
              "      <td>23.63%</td>\n",
              "      <td>1.008358e+06</td>\n",
              "      <td>2.109361e+06</td>\n",
              "      <td>72.21%</td>\n",
              "      <td>846125.8776</td>\n",
              "      <td>14.36%</td>\n",
              "      <td>522709.0918</td>\n",
              "      <td>61.81%</td>\n",
              "      <td>384902.2941</td>\n",
              "      <td>109935.3165</td>\n",
              "      <td>12.99%</td>\n",
              "      <td>3486.062733</td>\n",
              "      <td>0.67%</td>\n",
              "      <td>3627.661763</td>\n",
              "      <td>0.69%</td>\n",
              "      <td>45961.39306</td>\n",
              "      <td>45748.55568</td>\n",
              "      <td>10.84%</td>\n",
              "      <td>301.520554</td>\n",
              "      <td>0.06%</td>\n",
              "      <td>836</td>\n",
              "      <td>48:00:00</td>\n",
              "      <td>00:12:44</td>\n",
              "      <td>5000.0</td>\n",
              "      <td>5000.0</td>\n",
              "      <td>35700.0</td>\n",
              "      <td>40700.0</td>\n",
              "      <td>-93.81</td>\n",
              "      <td>0.5</td>\n",
              "    </tr>\n",
              "    <tr>\n",
              "      <th>4</th>\n",
              "      <td>5</td>\n",
              "      <td>19</td>\n",
              "      <td>0.263158</td>\n",
              "      <td>121090</td>\n",
              "      <td>3.71%</td>\n",
              "      <td>693120.9392</td>\n",
              "      <td>21.22%</td>\n",
              "      <td>1.011934e+06</td>\n",
              "      <td>2.452509e+06</td>\n",
              "      <td>75.08%</td>\n",
              "      <td>846009.2382</td>\n",
              "      <td>14.31%</td>\n",
              "      <td>524177.4448</td>\n",
              "      <td>62.00%</td>\n",
              "      <td>385060.1957</td>\n",
              "      <td>109138.3450</td>\n",
              "      <td>12.90%</td>\n",
              "      <td>3552.887995</td>\n",
              "      <td>0.68%</td>\n",
              "      <td>3866.353710</td>\n",
              "      <td>0.74%</td>\n",
              "      <td>45681.79528</td>\n",
              "      <td>45558.20943</td>\n",
              "      <td>10.78%</td>\n",
              "      <td>363.443663</td>\n",
              "      <td>0.07%</td>\n",
              "      <td>832</td>\n",
              "      <td>48:00:00</td>\n",
              "      <td>00:12:27</td>\n",
              "      <td>5000.0</td>\n",
              "      <td>5000.0</td>\n",
              "      <td>39900.0</td>\n",
              "      <td>44900.0</td>\n",
              "      <td>-113.81</td>\n",
              "      <td>0.5</td>\n",
              "    </tr>\n",
              "  </tbody>\n",
              "</table>\n",
              "</div>"
            ],
            "text/plain": [
              "   Robot_count  Picker_count  ...  Savings_percentage  Throughput_factor\n",
              "0            5             5  ...               26.19                0.5\n",
              "1            5            10  ...              -23.81                0.5\n",
              "2            5            15  ...              -73.81                0.5\n",
              "3            5            17  ...              -93.81                0.5\n",
              "4            5            19  ...             -113.81                0.5\n",
              "\n",
              "[5 rows x 35 columns]"
            ]
          },
          "metadata": {
            "tags": []
          },
          "execution_count": 27
        }
      ]
    },
    {
      "cell_type": "code",
      "metadata": {
        "colab": {
          "base_uri": "https://localhost:8080/"
        },
        "id": "heMAI6Ptf-qR",
        "outputId": "91b93dd6-8394-457a-e44a-eb6646b20678"
      },
      "source": [
        "# replace space with \"_\"\n",
        "df.columns = df.columns.str.replace(' ', '_') \n",
        "  \n",
        "# print file after removing special character \n",
        "print(\"\\n\\n\", df)"
      ],
      "execution_count": null,
      "outputs": [
        {
          "output_type": "stream",
          "text": [
            "\n",
            "\n",
            "     Robot_count  Picker_count  ...  Savings_percentage  Throughput_factor\n",
            "0             5             5  ...               26.19               0.50\n",
            "1             5            10  ...              -23.81               0.50\n",
            "2             5            15  ...              -73.81               0.50\n",
            "3             5            17  ...              -93.81               0.50\n",
            "4             5            19  ...             -113.81               0.50\n",
            "..          ...           ...  ...                 ...                ...\n",
            "65           50            15  ...               20.96               2.45\n",
            "66           50            17  ...               18.28               2.50\n",
            "67           50            19  ...               19.90               2.67\n",
            "68           50            20  ...               16.38               2.62\n",
            "69           50            25  ...               14.07               2.84\n",
            "\n",
            "[70 rows x 35 columns]\n"
          ],
          "name": "stdout"
        }
      ]
    },
    {
      "cell_type": "markdown",
      "metadata": {
        "id": "vs5PJ7YtafPy"
      },
      "source": [
        "Adding robot/picker ratio as a new feature"
      ]
    },
    {
      "cell_type": "code",
      "metadata": {
        "colab": {
          "base_uri": "https://localhost:8080/"
        },
        "id": "RegJP_HPaF-C",
        "outputId": "b916faa6-f3eb-473f-99eb-79f80af14f3f"
      },
      "source": [
        "df[\"ratio_rb\"] = df.Robot_count/df.Picker_count\n",
        "df[\"ratio_rb\"]"
      ],
      "execution_count": null,
      "outputs": [
        {
          "output_type": "execute_result",
          "data": {
            "text/plain": [
              "0     1.000000\n",
              "1     0.500000\n",
              "2     0.333333\n",
              "3     0.294118\n",
              "4     0.263158\n",
              "        ...   \n",
              "65    3.333333\n",
              "66    2.941176\n",
              "67    2.631579\n",
              "68    2.500000\n",
              "69    2.000000\n",
              "Name: ratio_rb, Length: 70, dtype: float64"
            ]
          },
          "metadata": {
            "tags": []
          },
          "execution_count": 29
        }
      ]
    },
    {
      "cell_type": "code",
      "metadata": {
        "colab": {
          "base_uri": "https://localhost:8080/"
        },
        "id": "gGzeiocqkeFg",
        "outputId": "39dc5fe8-86d8-4ad0-c4e9-98de2d32ddaf"
      },
      "source": [
        "df.Throughput_factor.max()"
      ],
      "execution_count": null,
      "outputs": [
        {
          "output_type": "execute_result",
          "data": {
            "text/plain": [
              "2.84"
            ]
          },
          "metadata": {
            "tags": []
          },
          "execution_count": 24
        }
      ]
    },
    {
      "cell_type": "code",
      "metadata": {
        "colab": {
          "base_uri": "https://localhost:8080/"
        },
        "id": "7hOP7ZtViY-e",
        "outputId": "6079736a-2184-4d7b-cb87-4e3ec08c26b1"
      },
      "source": [
        "df.loc[df.Throughput_factor == df.Throughput_factor.max(), \"ratio_rb\"]"
      ],
      "execution_count": null,
      "outputs": [
        {
          "output_type": "execute_result",
          "data": {
            "text/plain": [
              "69    2.0\n",
              "Name: ratio_rb, dtype: float64"
            ]
          },
          "metadata": {
            "tags": []
          },
          "execution_count": 25
        }
      ]
    }
  ]
}